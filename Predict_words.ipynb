{
  "cells": [
    {
      "cell_type": "markdown",
      "metadata": {
        "id": "view-in-github",
        "colab_type": "text"
      },
      "source": [
        "<a href=\"https://colab.research.google.com/github/IMI1998/Number-Sequence/blob/main/Predict_words.ipynb\" target=\"_parent\"><img src=\"https://colab.research.google.com/assets/colab-badge.svg\" alt=\"Open In Colab\"/></a>"
      ]
    },
    {
      "cell_type": "code",
      "execution_count": 22,
      "metadata": {
        "id": "L8g0G1-i_H_g"
      },
      "outputs": [],
      "source": [
        "import numpy as np\n",
        "import matplotlib.pyplot as plt\n",
        "import pandas as pd\n",
        "import seaborn as sns\n",
        "\n",
        "\n",
        "import tensorflow as tf\n",
        "from tensorflow import keras\n",
        "from tensorflow.keras import layers"
      ]
    },
    {
      "cell_type": "code",
      "execution_count": 23,
      "metadata": {
        "id": "GS0kulW0_YiH",
        "colab": {
          "base_uri": "https://localhost:8080/"
        },
        "outputId": "7528599f-0930-464f-e2a2-6bc842e049b5"
      },
      "outputs": [
        {
          "output_type": "stream",
          "name": "stdout",
          "text": [
            "[10, 20, 30, 40, 50, 60, 70, 80, 90, 100, 110, 120, 130, 140, 150, 160, 170, 180, 190, 200]\n"
          ]
        }
      ],
      "source": [
        "data = [10, 20, 30, 40, 50, 60, 70, 80, 90, 100, 110, 120, 130, 140, 150, 160, 170, 180, 190, 200]\n",
        "print(data)"
      ]
    },
    {
      "cell_type": "code",
      "source": [
        "def splitSequence(seq, n_steps):\n",
        "\n",
        "    X = []\n",
        "    y = []\n",
        "\n",
        "    for i in range(len(seq)):\n",
        "\n",
        "        lastIndex = i + n_steps\n",
        "\n",
        "\n",
        "        if lastIndex > len(seq) - 1:\n",
        "            break\n",
        "\n",
        "\n",
        "        seq_X, seq_y = seq[i:lastIndex], seq[lastIndex]\n",
        "\n",
        "\n",
        "        X.append(seq_X)\n",
        "        y.append(seq_y)\n",
        "        pass\n",
        "\n",
        "    X = np.array(X)\n",
        "    y = np.array(y)\n",
        "\n",
        "    return X,y"
      ],
      "metadata": {
        "id": "8ec3f5wPOq2o"
      },
      "execution_count": 25,
      "outputs": []
    },
    {
      "cell_type": "code",
      "source": [
        "n_steps = 7\n",
        "X, y = splitSequence(data, n_steps)\n",
        "print(X)"
      ],
      "metadata": {
        "colab": {
          "base_uri": "https://localhost:8080/"
        },
        "id": "HkpNX3ekTMzJ",
        "outputId": "bb01cea6-1333-4cd6-a0b1-b9663c617bfc"
      },
      "execution_count": 26,
      "outputs": [
        {
          "output_type": "stream",
          "name": "stdout",
          "text": [
            "[[ 10  20  30  40  50  60  70]\n",
            " [ 20  30  40  50  60  70  80]\n",
            " [ 30  40  50  60  70  80  90]\n",
            " [ 40  50  60  70  80  90 100]\n",
            " [ 50  60  70  80  90 100 110]\n",
            " [ 60  70  80  90 100 110 120]\n",
            " [ 70  80  90 100 110 120 130]\n",
            " [ 80  90 100 110 120 130 140]\n",
            " [ 90 100 110 120 130 140 150]\n",
            " [100 110 120 130 140 150 160]\n",
            " [110 120 130 140 150 160 170]\n",
            " [120 130 140 150 160 170 180]\n",
            " [130 140 150 160 170 180 190]]\n"
          ]
        }
      ]
    },
    {
      "cell_type": "code",
      "source": [
        "n_features = 1\n",
        "X = X.reshape((X.shape[0], X.shape[1], n_features))\n",
        "print(X[:2])"
      ],
      "metadata": {
        "colab": {
          "base_uri": "https://localhost:8080/"
        },
        "id": "-PjcpCd2TRnQ",
        "outputId": "03a5b623-a027-48b3-d79a-d3548937996b"
      },
      "execution_count": 27,
      "outputs": [
        {
          "output_type": "stream",
          "name": "stdout",
          "text": [
            "[[[10]\n",
            "  [20]\n",
            "  [30]\n",
            "  [40]\n",
            "  [50]\n",
            "  [60]\n",
            "  [70]]\n",
            "\n",
            " [[20]\n",
            "  [30]\n",
            "  [40]\n",
            "  [50]\n",
            "  [60]\n",
            "  [70]\n",
            "  [80]]]\n"
          ]
        }
      ]
    },
    {
      "cell_type": "code",
      "source": [
        "model = tf.keras.Sequential()\n",
        "model.add(layers.LSTM(50, activation='relu', input_shape=(n_steps, n_features)))\n",
        "model.add(layers.Dense(1))"
      ],
      "metadata": {
        "id": "zAi1r7IMTh7q"
      },
      "execution_count": 28,
      "outputs": []
    },
    {
      "cell_type": "code",
      "source": [
        "from sklearn.model_selection import train_test_split\n",
        "\n",
        "X_train, X_test, y_train, y_test = train_test_split(X, y, test_size=0.2)"
      ],
      "metadata": {
        "id": "8aAS9jsATnv2"
      },
      "execution_count": 29,
      "outputs": []
    },
    {
      "cell_type": "code",
      "source": [
        "model.compile(optimizer=tf.keras.optimizers.Adam(0.001), loss=tf.keras.losses.MeanSquaredError())"
      ],
      "metadata": {
        "id": "IKXAm-aXTtl7"
      },
      "execution_count": 30,
      "outputs": []
    },
    {
      "cell_type": "code",
      "source": [
        "print(\"Fit model on training data\")\n",
        "history = model.fit(\n",
        "    X_train,\n",
        "    y_train,\n",
        "    batch_size=64,\n",
        "    epochs=100,\n",
        "    validation_data=(X_test, y_test), verbose=1\n",
        ")"
      ],
      "metadata": {
        "colab": {
          "base_uri": "https://localhost:8080/"
        },
        "id": "3Vj06Ix2TxTj",
        "outputId": "552a7980-dd1c-417a-89f1-0da428b7376f"
      },
      "execution_count": 31,
      "outputs": [
        {
          "output_type": "stream",
          "name": "stdout",
          "text": [
            "Fit model on training data\n",
            "Epoch 1/100\n",
            "1/1 [==============================] - 2s 2s/step - loss: 17964.6504 - val_loss: 19783.3457\n",
            "Epoch 2/100\n",
            "1/1 [==============================] - 0s 75ms/step - loss: 17521.6113 - val_loss: 19233.6406\n",
            "Epoch 3/100\n",
            "1/1 [==============================] - 0s 77ms/step - loss: 17115.8750 - val_loss: 18751.6191\n",
            "Epoch 4/100\n",
            "1/1 [==============================] - 0s 53ms/step - loss: 16731.1387 - val_loss: 18324.0176\n",
            "Epoch 5/100\n",
            "1/1 [==============================] - 0s 53ms/step - loss: 16357.3223 - val_loss: 17916.7070\n",
            "Epoch 6/100\n",
            "1/1 [==============================] - 0s 78ms/step - loss: 15980.5654 - val_loss: 17464.0527\n",
            "Epoch 7/100\n",
            "1/1 [==============================] - 0s 75ms/step - loss: 15579.9902 - val_loss: 16914.2559\n",
            "Epoch 8/100\n",
            "1/1 [==============================] - 0s 83ms/step - loss: 15139.5215 - val_loss: 16275.2725\n",
            "Epoch 9/100\n",
            "1/1 [==============================] - 0s 60ms/step - loss: 14663.3174 - val_loss: 15661.4717\n",
            "Epoch 10/100\n",
            "1/1 [==============================] - 0s 49ms/step - loss: 14204.9951 - val_loss: 15175.0674\n",
            "Epoch 11/100\n",
            "1/1 [==============================] - 0s 72ms/step - loss: 13819.2861 - val_loss: 14806.9111\n",
            "Epoch 12/100\n",
            "1/1 [==============================] - 0s 56ms/step - loss: 13499.5752 - val_loss: 14511.5781\n",
            "Epoch 13/100\n",
            "1/1 [==============================] - 0s 70ms/step - loss: 13220.9375 - val_loss: 14257.5195\n",
            "Epoch 14/100\n",
            "1/1 [==============================] - 0s 70ms/step - loss: 12969.2441 - val_loss: 14026.6826\n",
            "Epoch 15/100\n",
            "1/1 [==============================] - 0s 64ms/step - loss: 12732.7207 - val_loss: 13808.2852\n",
            "Epoch 16/100\n",
            "1/1 [==============================] - 0s 51ms/step - loss: 12505.5820 - val_loss: 13595.1953\n",
            "Epoch 17/100\n",
            "1/1 [==============================] - 0s 88ms/step - loss: 12283.9561 - val_loss: 13381.6455\n",
            "Epoch 18/100\n",
            "1/1 [==============================] - 0s 56ms/step - loss: 12064.3242 - val_loss: 13163.6094\n",
            "Epoch 19/100\n",
            "1/1 [==============================] - 0s 69ms/step - loss: 11843.5986 - val_loss: 12935.9092\n",
            "Epoch 20/100\n",
            "1/1 [==============================] - 0s 53ms/step - loss: 11617.3252 - val_loss: 12691.2617\n",
            "Epoch 21/100\n",
            "1/1 [==============================] - 0s 52ms/step - loss: 11380.7793 - val_loss: 12417.8877\n",
            "Epoch 22/100\n",
            "1/1 [==============================] - 0s 62ms/step - loss: 11126.3496 - val_loss: 12096.5107\n",
            "Epoch 23/100\n",
            "1/1 [==============================] - 0s 84ms/step - loss: 10843.1436 - val_loss: 11699.4766\n",
            "Epoch 24/100\n",
            "1/1 [==============================] - 0s 61ms/step - loss: 10514.3848 - val_loss: 11193.1729\n",
            "Epoch 25/100\n",
            "1/1 [==============================] - 0s 66ms/step - loss: 10121.3047 - val_loss: 10538.8213\n",
            "Epoch 26/100\n",
            "1/1 [==============================] - 0s 83ms/step - loss: 9640.6367 - val_loss: 9735.7041\n",
            "Epoch 27/100\n",
            "1/1 [==============================] - 0s 65ms/step - loss: 9069.5938 - val_loss: 8869.5068\n",
            "Epoch 28/100\n",
            "1/1 [==============================] - 0s 61ms/step - loss: 8441.4219 - val_loss: 8066.2056\n",
            "Epoch 29/100\n",
            "1/1 [==============================] - 0s 63ms/step - loss: 7807.7188 - val_loss: 7385.2017\n",
            "Epoch 30/100\n",
            "1/1 [==============================] - 0s 73ms/step - loss: 7200.9204 - val_loss: 6784.0742\n",
            "Epoch 31/100\n",
            "1/1 [==============================] - 0s 91ms/step - loss: 6617.9741 - val_loss: 6156.0894\n",
            "Epoch 32/100\n",
            "1/1 [==============================] - 0s 74ms/step - loss: 6038.3076 - val_loss: 5952.9395\n",
            "Epoch 33/100\n",
            "1/1 [==============================] - 0s 55ms/step - loss: 5797.5928 - val_loss: 5589.9956\n",
            "Epoch 34/100\n",
            "1/1 [==============================] - 0s 51ms/step - loss: 5456.2471 - val_loss: 4829.6289\n",
            "Epoch 35/100\n",
            "1/1 [==============================] - 0s 43ms/step - loss: 4793.0352 - val_loss: 4300.3599\n",
            "Epoch 36/100\n",
            "1/1 [==============================] - 0s 40ms/step - loss: 4321.5415 - val_loss: 3876.5422\n",
            "Epoch 37/100\n",
            "1/1 [==============================] - 0s 45ms/step - loss: 3935.8586 - val_loss: 3451.0461\n",
            "Epoch 38/100\n",
            "1/1 [==============================] - 0s 41ms/step - loss: 3551.2319 - val_loss: 2995.4678\n",
            "Epoch 39/100\n",
            "1/1 [==============================] - 0s 45ms/step - loss: 3154.6426 - val_loss: 2545.7207\n",
            "Epoch 40/100\n",
            "1/1 [==============================] - 0s 49ms/step - loss: 2760.7188 - val_loss: 2184.7637\n",
            "Epoch 41/100\n",
            "1/1 [==============================] - 0s 53ms/step - loss: 2381.0190 - val_loss: 1938.5062\n",
            "Epoch 42/100\n",
            "1/1 [==============================] - 0s 41ms/step - loss: 2026.8027 - val_loss: 1757.0352\n",
            "Epoch 43/100\n",
            "1/1 [==============================] - 0s 50ms/step - loss: 1709.4242 - val_loss: 1608.5244\n",
            "Epoch 44/100\n",
            "1/1 [==============================] - 0s 41ms/step - loss: 1428.9208 - val_loss: 1481.5132\n",
            "Epoch 45/100\n",
            "1/1 [==============================] - 0s 40ms/step - loss: 1178.6725 - val_loss: 1372.7640\n",
            "Epoch 46/100\n",
            "1/1 [==============================] - 0s 40ms/step - loss: 953.0895 - val_loss: 1292.5249\n",
            "Epoch 47/100\n",
            "1/1 [==============================] - 0s 42ms/step - loss: 750.9760 - val_loss: 1331.5380\n",
            "Epoch 48/100\n",
            "1/1 [==============================] - 0s 40ms/step - loss: 606.7316 - val_loss: 1359.2084\n",
            "Epoch 49/100\n",
            "1/1 [==============================] - 0s 44ms/step - loss: 525.2903 - val_loss: 1941.0358\n",
            "Epoch 50/100\n",
            "1/1 [==============================] - 0s 41ms/step - loss: 707.3373 - val_loss: 1504.0980\n",
            "Epoch 51/100\n",
            "1/1 [==============================] - 0s 40ms/step - loss: 450.8096 - val_loss: 1334.3295\n",
            "Epoch 52/100\n",
            "1/1 [==============================] - 0s 42ms/step - loss: 365.9185 - val_loss: 1074.6896\n",
            "Epoch 53/100\n",
            "1/1 [==============================] - 0s 39ms/step - loss: 267.9743 - val_loss: 1058.8959\n",
            "Epoch 54/100\n",
            "1/1 [==============================] - 0s 43ms/step - loss: 216.2762 - val_loss: 1037.8802\n",
            "Epoch 55/100\n",
            "1/1 [==============================] - 0s 47ms/step - loss: 213.0688 - val_loss: 1006.2790\n",
            "Epoch 56/100\n",
            "1/1 [==============================] - 0s 49ms/step - loss: 179.3626 - val_loss: 960.9464\n",
            "Epoch 57/100\n",
            "1/1 [==============================] - 0s 45ms/step - loss: 155.6659 - val_loss: 922.5978\n",
            "Epoch 58/100\n",
            "1/1 [==============================] - 0s 57ms/step - loss: 135.2132 - val_loss: 894.9669\n",
            "Epoch 59/100\n",
            "1/1 [==============================] - 0s 49ms/step - loss: 112.6381 - val_loss: 862.2318\n",
            "Epoch 60/100\n",
            "1/1 [==============================] - 0s 45ms/step - loss: 94.2969 - val_loss: 830.8262\n",
            "Epoch 61/100\n",
            "1/1 [==============================] - 0s 53ms/step - loss: 76.6685 - val_loss: 811.2755\n",
            "Epoch 62/100\n",
            "1/1 [==============================] - 0s 71ms/step - loss: 65.0012 - val_loss: 786.3826\n",
            "Epoch 63/100\n",
            "1/1 [==============================] - 0s 47ms/step - loss: 53.7431 - val_loss: 747.7214\n",
            "Epoch 64/100\n",
            "1/1 [==============================] - 0s 47ms/step - loss: 43.3549 - val_loss: 714.1710\n",
            "Epoch 65/100\n",
            "1/1 [==============================] - 0s 50ms/step - loss: 34.1421 - val_loss: 690.5179\n",
            "Epoch 66/100\n",
            "1/1 [==============================] - 0s 59ms/step - loss: 28.0555 - val_loss: 669.3478\n",
            "Epoch 67/100\n",
            "1/1 [==============================] - 0s 49ms/step - loss: 24.4510 - val_loss: 646.1646\n",
            "Epoch 68/100\n",
            "1/1 [==============================] - 0s 49ms/step - loss: 22.0151 - val_loss: 621.5994\n",
            "Epoch 69/100\n",
            "1/1 [==============================] - 0s 44ms/step - loss: 19.7109 - val_loss: 597.4063\n",
            "Epoch 70/100\n",
            "1/1 [==============================] - 0s 47ms/step - loss: 17.8741 - val_loss: 575.0424\n",
            "Epoch 71/100\n",
            "1/1 [==============================] - 0s 49ms/step - loss: 17.3586 - val_loss: 554.5181\n",
            "Epoch 72/100\n",
            "1/1 [==============================] - 0s 45ms/step - loss: 17.5688 - val_loss: 534.1094\n",
            "Epoch 73/100\n",
            "1/1 [==============================] - 0s 51ms/step - loss: 17.2488 - val_loss: 512.9406\n",
            "Epoch 74/100\n",
            "1/1 [==============================] - 0s 56ms/step - loss: 15.5775 - val_loss: 494.0906\n",
            "Epoch 75/100\n",
            "1/1 [==============================] - 0s 47ms/step - loss: 13.1519 - val_loss: 474.6856\n",
            "Epoch 76/100\n",
            "1/1 [==============================] - 0s 49ms/step - loss: 10.7192 - val_loss: 455.7725\n",
            "Epoch 77/100\n",
            "1/1 [==============================] - 0s 52ms/step - loss: 8.6597 - val_loss: 436.5219\n",
            "Epoch 78/100\n",
            "1/1 [==============================] - 0s 49ms/step - loss: 7.0855 - val_loss: 416.3524\n",
            "Epoch 79/100\n",
            "1/1 [==============================] - 0s 45ms/step - loss: 6.0392 - val_loss: 395.7951\n",
            "Epoch 80/100\n",
            "1/1 [==============================] - 0s 52ms/step - loss: 5.2547 - val_loss: 376.0966\n",
            "Epoch 81/100\n",
            "1/1 [==============================] - 0s 51ms/step - loss: 4.3928 - val_loss: 357.1138\n",
            "Epoch 82/100\n",
            "1/1 [==============================] - 0s 39ms/step - loss: 3.6456 - val_loss: 339.0974\n",
            "Epoch 83/100\n",
            "1/1 [==============================] - 0s 44ms/step - loss: 3.3220 - val_loss: 323.9426\n",
            "Epoch 84/100\n",
            "1/1 [==============================] - 0s 43ms/step - loss: 3.0112 - val_loss: 311.3984\n",
            "Epoch 85/100\n",
            "1/1 [==============================] - 0s 45ms/step - loss: 2.4235 - val_loss: 301.3305\n",
            "Epoch 86/100\n",
            "1/1 [==============================] - 0s 43ms/step - loss: 1.7674 - val_loss: 293.2216\n",
            "Epoch 87/100\n",
            "1/1 [==============================] - 0s 39ms/step - loss: 1.5632 - val_loss: 286.1917\n",
            "Epoch 88/100\n",
            "1/1 [==============================] - 0s 44ms/step - loss: 1.8620 - val_loss: 279.1802\n",
            "Epoch 89/100\n",
            "1/1 [==============================] - 0s 42ms/step - loss: 2.1487 - val_loss: 271.3882\n",
            "Epoch 90/100\n",
            "1/1 [==============================] - 0s 43ms/step - loss: 2.0010 - val_loss: 262.7009\n",
            "Epoch 91/100\n",
            "1/1 [==============================] - 0s 44ms/step - loss: 1.5722 - val_loss: 253.7779\n",
            "Epoch 92/100\n",
            "1/1 [==============================] - 0s 42ms/step - loss: 1.3913 - val_loss: 246.7735\n",
            "Epoch 93/100\n",
            "1/1 [==============================] - 0s 46ms/step - loss: 1.7180 - val_loss: 245.0211\n",
            "Epoch 94/100\n",
            "1/1 [==============================] - 0s 59ms/step - loss: 1.9337 - val_loss: 246.8055\n",
            "Epoch 95/100\n",
            "1/1 [==============================] - 0s 49ms/step - loss: 1.6921 - val_loss: 250.4489\n",
            "Epoch 96/100\n",
            "1/1 [==============================] - 0s 53ms/step - loss: 1.4210 - val_loss: 254.3180\n",
            "Epoch 97/100\n",
            "1/1 [==============================] - 0s 52ms/step - loss: 1.3831 - val_loss: 257.3945\n",
            "Epoch 98/100\n",
            "1/1 [==============================] - 0s 54ms/step - loss: 1.4548 - val_loss: 259.3120\n",
            "Epoch 99/100\n",
            "1/1 [==============================] - 0s 51ms/step - loss: 1.4407 - val_loss: 260.2208\n",
            "Epoch 100/100\n",
            "1/1 [==============================] - 0s 47ms/step - loss: 1.3082 - val_loss: 260.5552\n"
          ]
        }
      ]
    },
    {
      "cell_type": "code",
      "source": [
        "\n",
        "test_data = np.array([90, 100, 110, 120, 130, 140, 150])\n",
        "test_data = test_data.reshape((1, n_steps, n_features))\n",
        "test_data"
      ],
      "metadata": {
        "colab": {
          "base_uri": "https://localhost:8080/"
        },
        "id": "a6CDp5_zT5OB",
        "outputId": "8513f40d-7ddf-474a-f9e7-05995d6989f7"
      },
      "execution_count": 32,
      "outputs": [
        {
          "output_type": "execute_result",
          "data": {
            "text/plain": [
              "array([[[ 90],\n",
              "        [100],\n",
              "        [110],\n",
              "        [120],\n",
              "        [130],\n",
              "        [140],\n",
              "        [150]]])"
            ]
          },
          "metadata": {},
          "execution_count": 32
        }
      ]
    },
    {
      "cell_type": "code",
      "source": [
        "predictNextNumber = model.predict(test_data, verbose=1)\n",
        "print(predictNextNumber)"
      ],
      "metadata": {
        "colab": {
          "base_uri": "https://localhost:8080/"
        },
        "id": "Bc6J-aTIUJga",
        "outputId": "ae8fb6e0-dae2-4305-8f7b-dce351d5d680"
      },
      "execution_count": 33,
      "outputs": [
        {
          "output_type": "stream",
          "name": "stdout",
          "text": [
            "1/1 [==============================] - 0s 228ms/step\n",
            "[[158.28178]]\n"
          ]
        }
      ]
    },
    {
      "cell_type": "code",
      "source": [
        "model.save(\"drive/MyDrive/Dataset/DataScience-Pianalytix-Models/NumberSequence.h5\")"
      ],
      "metadata": {
        "colab": {
          "base_uri": "https://localhost:8080/"
        },
        "id": "9cSnYItaUXmE",
        "outputId": "aaeaf6bf-f91c-4eee-d520-12e15e1b20c8"
      },
      "execution_count": 34,
      "outputs": [
        {
          "output_type": "stream",
          "name": "stderr",
          "text": [
            "/usr/local/lib/python3.10/dist-packages/keras/src/engine/training.py:3103: UserWarning: You are saving your model as an HDF5 file via `model.save()`. This file format is considered legacy. We recommend using instead the native Keras format, e.g. `model.save('my_model.keras')`.\n",
            "  saving_api.save_model(\n"
          ]
        }
      ]
    },
    {
      "cell_type": "code",
      "source": [
        "fig = plt.figure()\n",
        "fig.suptitle(\"Adam, lr=0.001, one hidden layer\")\n",
        "\n",
        "ax = fig.add_subplot(1,1, 1)\n",
        "ax.set_title('Cost')\n",
        "ax.plot(history.history['loss'], label='Training')\n",
        "ax.plot(history.history['val_loss'], label='Validation')\n",
        "ax.legend()\n",
        "\n",
        "fig.show()"
      ],
      "metadata": {
        "colab": {
          "base_uri": "https://localhost:8080/",
          "height": 478
        },
        "id": "i-1FOlYYUcVc",
        "outputId": "7401bbdd-461c-4b73-82f7-b9ccfa8c7f17"
      },
      "execution_count": 35,
      "outputs": [
        {
          "output_type": "display_data",
          "data": {
            "text/plain": [
              "<Figure size 640x480 with 1 Axes>"
            ],
            "image/png": "[encoded data removed]"
          },
          "metadata": {}
        }
      ]
    },
    {
      "cell_type": "code",
      "source": [],
      "metadata": {
        "id": "J6UZwk1WUffX"
      },
      "execution_count": null,
      "outputs": []
    }
  ],
  "metadata": {
    "colab": {
      "provenance": [],
      "authorship_tag": "ABX9TyO2E6/FoWyDiwKZ2MbZzoIZ",
      "include_colab_link": true
    },
    "kernelspec": {
      "display_name": "Python 3",
      "name": "python3"
    },
    "language_info": {
      "name": "python"
    }
  },
  "nbformat": 4,
  "nbformat_minor": 0
}